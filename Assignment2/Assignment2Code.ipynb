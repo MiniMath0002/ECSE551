{
 "cells": [
  {
   "cell_type": "markdown",
   "metadata": {},
   "source": [
    "## Assignment 2\n",
    "# Group 13\n",
    "Mathieu Mailhot - Isabel Lougheed - Frank-Lucas Pantazis"
   ]
  },
  {
   "cell_type": "code",
   "execution_count": null,
   "metadata": {},
   "outputs": [],
   "source": [
    "import matplotlib.pyplot as plt\n",
    "import numpy as np\n",
    "import pandas as pd\n",
    "import os\n"
   ]
  },
  {
   "cell_type": "code",
   "execution_count": 3,
   "metadata": {},
   "outputs": [],
   "source": [
    "# GENERAL HYPERPARMETERS\n",
    "folds = 5 # Cross Validation Folds (Generally either 5 or 10) \n",
    "max_iter = 1000"
   ]
  },
  {
   "cell_type": "code",
   "execution_count": null,
   "metadata": {},
   "outputs": [],
   "source": [
    "class naiveBayes:\n",
    "    def __init__(self, x_all, y_all):\n",
    "        self.x_all = x_all\n",
    "        self.y_all = y_all\n",
    "        self.features_probability = dict()\n",
    "\n",
    "        self.folds_features_probability = 0 # array of dict\n",
    "        self.folds_accuracy = 0\n",
    "        self.avg_accuracy = 0\n",
    "\n",
    "    \n",
    "    def calc_probability(self): # Train/Fit # Mathieu\n",
    "        pass\n",
    "    \n",
    "    def predict(self, x_i): # Issy\n",
    "        pass # return y (0,1,2,3)\n",
    "\n",
    "    def accu_eval(self, x, y): # Issy\n",
    "        pass\n",
    "\n",
    "    def crossValidation(self, k): # Issy (PS: I think we are allowed to use the method from sklearn)\n",
    "        pass\n"
   ]
  },
  {
   "cell_type": "markdown",
   "metadata": {},
   "source": [
    "<h2>Logistic Regression</h2>\n",
    "<h3>Hyperparamater Optimisation</h3>\n"
   ]
  },
  {
   "cell_type": "code",
   "execution_count": null,
   "metadata": {},
   "outputs": [
    {
     "ename": "NameError",
     "evalue": "name 'X' is not defined",
     "output_type": "error",
     "traceback": [
      "\u001b[1;31m---------------------------------------------------------------------------\u001b[0m",
      "\u001b[1;31mNameError\u001b[0m                                 Traceback (most recent call last)",
      "Cell \u001b[1;32mIn[4], line 14\u001b[0m\n\u001b[0;32m     10\u001b[0m logModel \u001b[38;5;241m=\u001b[39m sklearn\u001b[38;5;241m.\u001b[39mlinear_model\u001b[38;5;241m.\u001b[39mLogisticRegression()\n\u001b[0;32m     12\u001b[0m logModel_gridSearch \u001b[38;5;241m=\u001b[39m GridSearchCV(logModel, param_grid\u001b[38;5;241m=\u001b[39mparam_grid, cv\u001b[38;5;241m=\u001b[39mfolds, verbose\u001b[38;5;241m=\u001b[39m\u001b[38;5;28;01mTrue\u001b[39;00m)\n\u001b[1;32m---> 14\u001b[0m logModel_best_clf \u001b[38;5;241m=\u001b[39m logModel_gridSearch\u001b[38;5;241m.\u001b[39mfit(\u001b[43mX\u001b[49m,y)\n\u001b[0;32m     16\u001b[0m logModel_best_clf\u001b[38;5;241m.\u001b[39mbest_estimator_\n\u001b[0;32m     18\u001b[0m \u001b[38;5;28mprint\u001b[39m(\u001b[38;5;124mf\u001b[39m\u001b[38;5;124m'\u001b[39m\u001b[38;5;124mAccuracy :\u001b[39m\u001b[38;5;132;01m{\u001b[39;00mlogModel_best_clf\u001b[38;5;241m.\u001b[39mbest_score_(X,y)\u001b[38;5;132;01m}\u001b[39;00m\u001b[38;5;124m:.3f\u001b[39m\u001b[38;5;124m'\u001b[39m)\n",
      "\u001b[1;31mNameError\u001b[0m: name 'X' is not defined"
     ]
    }
   ],
   "source": [
    "import sklearn\n",
    "from sklearn.model_selection import GridSearchCV\n",
    "\n",
    "param_grid = [\n",
    "    {\"penalty\":[\"l1\",\"l2\",\"elasticnet\",\"none\"],\n",
    "     \"solver\":[\"lbfgs\",\"newton-cg\",\"sag\",\"saga\"],\n",
    "     \"multi_class\":\"multinomial\",\n",
    "     \"max_iter\": [1000,2000,3000]\n",
    "     }]\n",
    "\n",
    "logModel = sklearn.linear_model.LogisticRegression()\n",
    "\n",
    "logModel_gridSearch = GridSearchCV(logModel, param_grid=param_grid, cv=folds, verbose=True)\n",
    "\n",
    "logModel_best_clf = logModel_gridSearch.fit(X,y)\n",
    "\n",
    "logModel_best_clf.best_estimator_\n",
    "\n",
    "print(f'Accuracy :{logModel_best_clf.best_score_(X,y)}:.3f')"
   ]
  },
  {
   "cell_type": "markdown",
   "metadata": {},
   "source": [
    "<h3>Tunned Model</h3>"
   ]
  },
  {
   "cell_type": "code",
   "execution_count": null,
   "metadata": {},
   "outputs": [],
   "source": [
    "import sklearn\n",
    "\n",
    "logModel_tunned = sklearn.linear_model.LogisticRegression(logModel_best_clf.best_estimator_).fit(X,y)\n",
    "\n",
    "logModel_tunned.predict_proba"
   ]
  }
 ],
 "metadata": {
  "kernelspec": {
   "display_name": "sklearn-env",
   "language": "python",
   "name": "python3"
  },
  "language_info": {
   "codemirror_mode": {
    "name": "ipython",
    "version": 3
   },
   "file_extension": ".py",
   "mimetype": "text/x-python",
   "name": "python",
   "nbconvert_exporter": "python",
   "pygments_lexer": "ipython3",
   "version": "3.9.4"
  }
 },
 "nbformat": 4,
 "nbformat_minor": 2
}
