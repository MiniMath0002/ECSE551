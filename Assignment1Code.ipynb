{
 "cells": [
  {
   "cell_type": "markdown",
   "metadata": {},
   "source": [
    "## Assignment 1\n",
    "# Group 13\n",
    "Mathieu Mailhot - Isabel Lougheed - Frank-Lucas Pantazis"
   ]
  },
  {
   "cell_type": "markdown",
   "metadata": {},
   "source": [
    "Imports"
   ]
  },
  {
   "cell_type": "code",
   "execution_count": 5,
   "metadata": {},
   "outputs": [],
   "source": [
    "import matplotlib\n",
    "import numpy as np\n",
    "import pandas as pd"
   ]
  },
  {
   "cell_type": "code",
   "execution_count": 2,
   "metadata": {},
   "outputs": [
    {
     "data": {
      "text/plain": [
       "'\\n- CKD: 28 numerical features, 1 target binary classification variable (\"Normal\" / \"CKD\")\\n- Battery: 32 real-valued features, 2 classes (\"Normal\" / \"Defective\")\\n'"
      ]
     },
     "execution_count": 2,
     "metadata": {},
     "output_type": "execute_result"
    }
   ],
   "source": [
    "\"\"\"\n",
    "- CKD: 28 numerical features, 1 target binary classification variable (\"Normal\" / \"CKD\")\n",
    "- Battery: 32 real-valued features, 2 classes (\"Normal\" / \"Defective\")\n",
    "\"\"\"\n",
    "\n",
    "# load data sets\n",
    "\n",
    "\n",
    "# statistical analysis on the datasets\n",
    "\n",
    "# - normalize\n",
    "\n",
    "# models: all features, selective features based on statistical analysis (dropping features)"
   ]
  },
  {
   "cell_type": "markdown",
   "metadata": {},
   "source": [
    "Statistics"
   ]
  },
  {
   "cell_type": "code",
   "execution_count": 15,
   "metadata": {},
   "outputs": [
    {
     "name": "stdout",
     "output_type": "stream",
     "text": [
      "[[1.00000e+00 2.04500e-01 7.64600e-01 ... 8.81170e+01 9.47710e+01\n",
      "  1.00000e+00]\n",
      " [2.00000e+00 4.82200e-01 3.53300e-01 ... 5.77680e+01 1.07200e+02\n",
      "  1.00000e+00]\n",
      " [3.00000e+00 4.60200e-01 7.85100e-01 ... 1.05234e+02 9.16810e+01\n",
      "  1.00000e+00]\n",
      " ...\n",
      " [3.28000e+02 2.53200e-01 6.52300e-01 ... 8.63860e+01 9.92350e+01\n",
      "  1.00000e+00]\n",
      " [3.29000e+02 4.24900e-01 4.52800e-01 ... 1.20111e+02 9.83120e+01\n",
      "  1.00000e+00]\n",
      " [3.30000e+02 5.40200e-01 3.66400e-01 ... 1.01204e+02 9.84400e+01\n",
      "  1.00000e+00]]\n",
      "[[1.000000e+00 5.854000e-01 6.264000e-01 ... 9.907300e+01 1.053899e+02\n",
      "  1.000000e+00]\n",
      " [2.000000e+00 6.277000e-01 3.841000e-01 ... 9.150650e+01 9.100220e+01\n",
      "  0.000000e+00]\n",
      " [3.000000e+00 5.428000e-01 2.937000e-01 ... 9.400780e+01 1.046438e+02\n",
      "  0.000000e+00]\n",
      " ...\n",
      " [7.300000e+02 6.007000e-01 1.742000e-01 ... 1.117456e+02 9.444620e+01\n",
      "  0.000000e+00]\n",
      " [7.310000e+02 5.074000e-01 4.975000e-01 ... 1.080145e+02 6.329760e+01\n",
      "  1.000000e+00]\n",
      " [7.320000e+02 3.038000e-01 2.555000e-01 ... 1.227282e+02 7.608850e+01\n",
      "  0.000000e+00]]\n"
     ]
    },
    {
     "name": "stderr",
     "output_type": "stream",
     "text": [
      "C:\\Users\\mmail\\AppData\\Local\\Temp\\ipykernel_10996\\154256677.py:6: FutureWarning: Downcasting behavior in `replace` is deprecated and will be removed in a future version. To retain the old behavior, explicitly call `result.infer_objects(copy=False)`. To opt-in to the future behavior, set `pd.set_option('future.no_silent_downcasting', True)`\n",
      "  df_CKD[\"label\"] = df_CKD[\"label\"].replace({\"CKD\": 1, \"Normal\": 0})\n",
      "C:\\Users\\mmail\\AppData\\Local\\Temp\\ipykernel_10996\\154256677.py:8: FutureWarning: Downcasting behavior in `replace` is deprecated and will be removed in a future version. To retain the old behavior, explicitly call `result.infer_objects(copy=False)`. To opt-in to the future behavior, set `pd.set_option('future.no_silent_downcasting', True)`\n",
      "  df_battery[\"label\"] = df_battery[\"label\"].replace({\"Defective\": 1, \"Normal\": 0})\n"
     ]
    }
   ],
   "source": [
    "# load data sets\n",
    "df_CKD = pd.read_csv(\"CKD.csv\")\n",
    "df_battery = pd.read_csv(\"Battery_Dataset.csv\")\n",
    "\n",
    "# Convert \"CKD\" to 1 and \"Normal\" to 0\n",
    "df_CKD[\"label\"] = df_CKD[\"label\"].replace({\"CKD\": 1, \"Normal\": 0})\n",
    "# Convert \"Defective\" to 1 and \"Normal\" to 0\n",
    "df_battery[\"label\"] = df_battery[\"label\"].replace({\"Defective\": 1, \"Normal\": 0})\n",
    "\n",
    "# Convert to a numpy array\n",
    "CKD_data = df_CKD.to_numpy()\n",
    "battery_data = df_battery.to_numpy()\n",
    "\n",
    "print(CKD_data)\n",
    "print(battery_data)\n"
   ]
  }
 ],
 "metadata": {
  "kernelspec": {
   "display_name": "Python 3",
   "language": "python",
   "name": "python3"
  },
  "language_info": {
   "codemirror_mode": {
    "name": "ipython",
    "version": 3
   },
   "file_extension": ".py",
   "mimetype": "text/x-python",
   "name": "python",
   "nbconvert_exporter": "python",
   "pygments_lexer": "ipython3",
   "version": "3.12.9"
  }
 },
 "nbformat": 4,
 "nbformat_minor": 2
}
